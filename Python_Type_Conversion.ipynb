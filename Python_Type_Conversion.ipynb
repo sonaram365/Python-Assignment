{
  "nbformat": 4,
  "nbformat_minor": 0,
  "metadata": {
    "colab": {
      "provenance": []
    },
    "kernelspec": {
      "name": "python3",
      "display_name": "Python 3"
    },
    "language_info": {
      "name": "python"
    }
  },
  "cells": [
    {
      "cell_type": "markdown",
      "source": [
        "# Python Type Conversion"
      ],
      "metadata": {
        "id": "S_243TmJwFmJ"
      }
    },
    {
      "cell_type": "markdown",
      "source": [
        "1. Convert an integer to a floating-point number.\n",
        "2. Convert a float to an integer.\n",
        "3. Convert an integer to a string.\n",
        "4. Convert a list to a tuple.\n",
        "5. Convert a tuple to a list.\n",
        "6. Convert a decimal number to binary.\n",
        "7. Convert a non-zero number to boolean.\n"
      ],
      "metadata": {
        "id": "mNMXs3eJwYZq"
      }
    },
    {
      "cell_type": "markdown",
      "source": [
        "## Convert an integer to a floating-point number."
      ],
      "metadata": {
        "id": "G9TUP6uUwi5R"
      }
    },
    {
      "cell_type": "code",
      "source": [
        "my_int = 234 # assigning an integer\n",
        "\n",
        "type(my_int)"
      ],
      "metadata": {
        "colab": {
          "base_uri": "https://localhost:8080/"
        },
        "id": "pGhHRXVJwnwp",
        "outputId": "9a0c1d50-0957-454b-b788-db9392678abe"
      },
      "execution_count": 17,
      "outputs": [
        {
          "output_type": "execute_result",
          "data": {
            "text/plain": [
              "int"
            ]
          },
          "metadata": {},
          "execution_count": 17
        }
      ]
    },
    {
      "cell_type": "code",
      "source": [
        "my_int = float(my_int)    # converting integer to float\n",
        "type(my_int)"
      ],
      "metadata": {
        "colab": {
          "base_uri": "https://localhost:8080/"
        },
        "id": "RTCEX0CSxGrZ",
        "outputId": "ab34baf0-0b1c-4b24-fa4d-819d89945056"
      },
      "execution_count": 18,
      "outputs": [
        {
          "output_type": "execute_result",
          "data": {
            "text/plain": [
              "float"
            ]
          },
          "metadata": {},
          "execution_count": 18
        }
      ]
    },
    {
      "cell_type": "code",
      "source": [
        "my_int"
      ],
      "metadata": {
        "colab": {
          "base_uri": "https://localhost:8080/"
        },
        "id": "qOUsnQmRxntU",
        "outputId": "463bc67f-711d-4e0a-9290-1c8d539e249c"
      },
      "execution_count": 19,
      "outputs": [
        {
          "output_type": "execute_result",
          "data": {
            "text/plain": [
              "234.0"
            ]
          },
          "metadata": {},
          "execution_count": 19
        }
      ]
    },
    {
      "cell_type": "markdown",
      "source": [
        "## Convert an integer to a floating-point number."
      ],
      "metadata": {
        "id": "IZdD6BCNxwnC"
      }
    },
    {
      "cell_type": "code",
      "source": [
        "my_float = 23.45 # assigning a float\n",
        "type(my_float)"
      ],
      "metadata": {
        "colab": {
          "base_uri": "https://localhost:8080/"
        },
        "id": "MuOCTbpf_3XP",
        "outputId": "aed2b25c-48d1-434f-95de-1d6fdaa6c31a"
      },
      "execution_count": 20,
      "outputs": [
        {
          "output_type": "execute_result",
          "data": {
            "text/plain": [
              "float"
            ]
          },
          "metadata": {},
          "execution_count": 20
        }
      ]
    },
    {
      "cell_type": "code",
      "source": [
        "my_float = int(my_float) #converting integer to float\n",
        "my_float"
      ],
      "metadata": {
        "colab": {
          "base_uri": "https://localhost:8080/"
        },
        "id": "tR1V8rf9AE4X",
        "outputId": "109a0c33-3931-458c-ce33-7f02ff953892"
      },
      "execution_count": 21,
      "outputs": [
        {
          "output_type": "execute_result",
          "data": {
            "text/plain": [
              "23"
            ]
          },
          "metadata": {},
          "execution_count": 21
        }
      ]
    },
    {
      "cell_type": "code",
      "source": [
        "type(my_float)"
      ],
      "metadata": {
        "colab": {
          "base_uri": "https://localhost:8080/"
        },
        "id": "_lKDwsWWATqv",
        "outputId": "0b3e0d1c-2559-409f-f3b4-b46eb63d33f4"
      },
      "execution_count": 22,
      "outputs": [
        {
          "output_type": "execute_result",
          "data": {
            "text/plain": [
              "int"
            ]
          },
          "metadata": {},
          "execution_count": 22
        }
      ]
    },
    {
      "cell_type": "markdown",
      "source": [
        "# Convert an integer to a string."
      ],
      "metadata": {
        "id": "XaOR_ydoAeMF"
      }
    },
    {
      "cell_type": "code",
      "source": [
        "my_int2 = 345   #assigning an integer\n",
        "type(my_int2)"
      ],
      "metadata": {
        "colab": {
          "base_uri": "https://localhost:8080/"
        },
        "id": "CESNTb3EAg-F",
        "outputId": "d855a2a2-7525-4b80-e05c-2371871e38cb"
      },
      "execution_count": 23,
      "outputs": [
        {
          "output_type": "execute_result",
          "data": {
            "text/plain": [
              "int"
            ]
          },
          "metadata": {},
          "execution_count": 23
        }
      ]
    },
    {
      "cell_type": "code",
      "source": [
        "my_int2 = str(my_int2)  # converting integer to string\n",
        "type(my_int2)"
      ],
      "metadata": {
        "colab": {
          "base_uri": "https://localhost:8080/"
        },
        "id": "7agTp2YgA0Iy",
        "outputId": "e0495393-6cd6-40ea-9185-e92890a47fda"
      },
      "execution_count": 24,
      "outputs": [
        {
          "output_type": "execute_result",
          "data": {
            "text/plain": [
              "str"
            ]
          },
          "metadata": {},
          "execution_count": 24
        }
      ]
    },
    {
      "cell_type": "markdown",
      "source": [
        "# Convert a list to a tuple."
      ],
      "metadata": {
        "id": "iTqkqdrZBv20"
      }
    },
    {
      "cell_type": "code",
      "source": [
        "my_list = [23,34,53,65,23,56] # assigning a list\n",
        "my_list"
      ],
      "metadata": {
        "colab": {
          "base_uri": "https://localhost:8080/"
        },
        "id": "xAA6N7RiBw6l",
        "outputId": "62ac57f3-d923-426b-8104-b68d76c4f294"
      },
      "execution_count": 25,
      "outputs": [
        {
          "output_type": "execute_result",
          "data": {
            "text/plain": [
              "[23, 34, 53, 65, 23, 56]"
            ]
          },
          "metadata": {},
          "execution_count": 25
        }
      ]
    },
    {
      "cell_type": "code",
      "source": [
        "type(my_list)"
      ],
      "metadata": {
        "colab": {
          "base_uri": "https://localhost:8080/"
        },
        "id": "mJGqyL5sCCmO",
        "outputId": "b43ddc6f-a559-48f8-fa66-775adc70c1d7"
      },
      "execution_count": 26,
      "outputs": [
        {
          "output_type": "execute_result",
          "data": {
            "text/plain": [
              "list"
            ]
          },
          "metadata": {},
          "execution_count": 26
        }
      ]
    },
    {
      "cell_type": "code",
      "source": [
        "my_list = tuple(my_list) #converting list to tuple"
      ],
      "metadata": {
        "id": "9PrAxICkCHbF"
      },
      "execution_count": 27,
      "outputs": []
    },
    {
      "cell_type": "code",
      "source": [
        "type(my_list)"
      ],
      "metadata": {
        "colab": {
          "base_uri": "https://localhost:8080/"
        },
        "id": "cgCjZTNACYYh",
        "outputId": "37e940bb-4b7c-4bd5-f6af-04aa0d4d8049"
      },
      "execution_count": 28,
      "outputs": [
        {
          "output_type": "execute_result",
          "data": {
            "text/plain": [
              "tuple"
            ]
          },
          "metadata": {},
          "execution_count": 28
        }
      ]
    },
    {
      "cell_type": "markdown",
      "source": [
        "# Convert a tuple to a list."
      ],
      "metadata": {
        "id": "7MnDya6nChud"
      }
    },
    {
      "cell_type": "code",
      "source": [
        "my_tuple = (23,34,53,12,56,634,342,32,12)   # assigning a tuple\n",
        "my_tuple"
      ],
      "metadata": {
        "id": "EaGApXDlCnYq",
        "colab": {
          "base_uri": "https://localhost:8080/"
        },
        "outputId": "e12a6642-ff58-406b-8f3b-9ad80e3722ce"
      },
      "execution_count": 29,
      "outputs": [
        {
          "output_type": "execute_result",
          "data": {
            "text/plain": [
              "(23, 34, 53, 12, 56, 634, 342, 32, 12)"
            ]
          },
          "metadata": {},
          "execution_count": 29
        }
      ]
    },
    {
      "cell_type": "code",
      "source": [
        "type(my_tuple)"
      ],
      "metadata": {
        "colab": {
          "base_uri": "https://localhost:8080/"
        },
        "id": "Mrq6oSe2Z52D",
        "outputId": "8c0ece3c-5647-42ed-db76-394a01102978"
      },
      "execution_count": 30,
      "outputs": [
        {
          "output_type": "execute_result",
          "data": {
            "text/plain": [
              "tuple"
            ]
          },
          "metadata": {},
          "execution_count": 30
        }
      ]
    },
    {
      "cell_type": "code",
      "source": [
        "my_tuple = list(my_tuple)   #converting the tuple to a list"
      ],
      "metadata": {
        "id": "SmwkmnETaIJ-"
      },
      "execution_count": 31,
      "outputs": []
    },
    {
      "cell_type": "code",
      "source": [
        "my_tuple"
      ],
      "metadata": {
        "colab": {
          "base_uri": "https://localhost:8080/"
        },
        "id": "mZCcEE6JaPW8",
        "outputId": "a2319627-b403-4f11-9f75-29d6994bb796"
      },
      "execution_count": 32,
      "outputs": [
        {
          "output_type": "execute_result",
          "data": {
            "text/plain": [
              "[23, 34, 53, 12, 56, 634, 342, 32, 12]"
            ]
          },
          "metadata": {},
          "execution_count": 32
        }
      ]
    },
    {
      "cell_type": "code",
      "source": [
        "type(my_tuple)   #checking the result"
      ],
      "metadata": {
        "colab": {
          "base_uri": "https://localhost:8080/"
        },
        "id": "7E339guNaSPZ",
        "outputId": "bbcca8ee-e36f-4ee0-bafd-9f9c2282289e"
      },
      "execution_count": 33,
      "outputs": [
        {
          "output_type": "execute_result",
          "data": {
            "text/plain": [
              "list"
            ]
          },
          "metadata": {},
          "execution_count": 33
        }
      ]
    },
    {
      "cell_type": "markdown",
      "source": [
        "# Convert a decimal number to binary."
      ],
      "metadata": {
        "id": "ZWnjkpcDanhV"
      }
    },
    {
      "cell_type": "code",
      "source": [
        "my_num = 56  # assigning a decimal number"
      ],
      "metadata": {
        "id": "8QiOXWOaaosM"
      },
      "execution_count": 34,
      "outputs": []
    },
    {
      "cell_type": "code",
      "source": [
        "my_num"
      ],
      "metadata": {
        "colab": {
          "base_uri": "https://localhost:8080/"
        },
        "id": "BdQfdyaVbL-C",
        "outputId": "a3c8b357-2f83-4d22-c1d9-6e9216832d78"
      },
      "execution_count": 35,
      "outputs": [
        {
          "output_type": "execute_result",
          "data": {
            "text/plain": [
              "56"
            ]
          },
          "metadata": {},
          "execution_count": 35
        }
      ]
    },
    {
      "cell_type": "code",
      "source": [
        "my_num =bin(my_num)   # converting the decimal number"
      ],
      "metadata": {
        "id": "gVhfdtbNbNUq"
      },
      "execution_count": 36,
      "outputs": []
    },
    {
      "cell_type": "code",
      "source": [
        "my_num"
      ],
      "metadata": {
        "colab": {
          "base_uri": "https://localhost:8080/",
          "height": 36
        },
        "id": "_cn3q_KPbdZM",
        "outputId": "dad3f5ed-19b6-4f01-ad79-11ad221fb12c"
      },
      "execution_count": 37,
      "outputs": [
        {
          "output_type": "execute_result",
          "data": {
            "text/plain": [
              "'0b111000'"
            ],
            "application/vnd.google.colaboratory.intrinsic+json": {
              "type": "string"
            }
          },
          "metadata": {},
          "execution_count": 37
        }
      ]
    },
    {
      "cell_type": "markdown",
      "source": [
        "# Convert a non-zero number to boolean."
      ],
      "metadata": {
        "id": "U4WbdZficx68"
      }
    },
    {
      "cell_type": "code",
      "source": [
        "my_non_zerc_num = 65  # assigning a non zero number"
      ],
      "metadata": {
        "id": "VL9Es2iLc2FH"
      },
      "execution_count": 38,
      "outputs": []
    },
    {
      "cell_type": "code",
      "source": [
        "my_non_zerc_num"
      ],
      "metadata": {
        "colab": {
          "base_uri": "https://localhost:8080/"
        },
        "id": "XzP9syqSdOSq",
        "outputId": "8f177c88-c842-4713-d0b3-6422a6cc6398"
      },
      "execution_count": 39,
      "outputs": [
        {
          "output_type": "execute_result",
          "data": {
            "text/plain": [
              "65"
            ]
          },
          "metadata": {},
          "execution_count": 39
        }
      ]
    },
    {
      "cell_type": "code",
      "source": [
        "my_non_zerc_num  = bool(my_non_zerc_num )   #converting the non zero number to boolean"
      ],
      "metadata": {
        "id": "8kdzXjFzdUXh"
      },
      "execution_count": 40,
      "outputs": []
    },
    {
      "cell_type": "code",
      "source": [
        "my_non_zerc_num"
      ],
      "metadata": {
        "colab": {
          "base_uri": "https://localhost:8080/"
        },
        "id": "lJHzVgIfdBU6",
        "outputId": "45e409e6-91e6-4aaf-80bb-8bea84b34236"
      },
      "execution_count": 41,
      "outputs": [
        {
          "output_type": "execute_result",
          "data": {
            "text/plain": [
              "True"
            ]
          },
          "metadata": {},
          "execution_count": 41
        }
      ]
    }
  ]
}