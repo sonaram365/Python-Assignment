{
  "nbformat": 4,
  "nbformat_minor": 0,
  "metadata": {
    "colab": {
      "provenance": []
    },
    "kernelspec": {
      "name": "python3",
      "display_name": "Python 3"
    },
    "language_info": {
      "name": "python"
    }
  },
  "cells": [
    {
      "cell_type": "markdown",
      "source": [
        "# Assignment Questions\n",
        "1. print numbers from 1 to 5 using a while loop.\n",
        "2. Calculate the sum of numbers from 1 to 10 using a while loop\n",
        "3. Calculate the factorial of a number using a for loop.\n",
        "4. Count the number of vowels in a string using a for loop\n",
        "5. Print a pattern using nested loops.\n",
        "6. Generate a multiplication table using nested loops."
      ],
      "metadata": {
        "id": "Vv6Hbej6V1na"
      }
    },
    {
      "cell_type": "markdown",
      "source": [
        "## 1. print numbers from 1 to 5 using a while loop."
      ],
      "metadata": {
        "id": "LtR9ofKrV_TK"
      }
    },
    {
      "cell_type": "code",
      "source": [
        "x = 1\n",
        "while x <= 5:\n",
        "  print(\" number \", x)\n",
        "  x += 1"
      ],
      "metadata": {
        "colab": {
          "base_uri": "https://localhost:8080/"
        },
        "id": "MVQnBaUuWDlN",
        "outputId": "8259dff6-fb95-4149-8cda-995ca7dd472c"
      },
      "execution_count": 1,
      "outputs": [
        {
          "output_type": "stream",
          "name": "stdout",
          "text": [
            " number  1\n",
            " number  2\n",
            " number  3\n",
            " number  4\n",
            " number  5\n"
          ]
        }
      ]
    },
    {
      "cell_type": "markdown",
      "source": [
        "## 2. Calculate the sum of numbers from 1 to 10 using a while loop"
      ],
      "metadata": {
        "id": "XSf2R7VUWlki"
      }
    },
    {
      "cell_type": "code",
      "source": [
        "x = 1\n",
        "y = 0\n",
        "while x <= 10:\n",
        "  y = y+ x\n",
        "  x += 1\n",
        "\n",
        "print(\"sum of number from 1 to 10 is \",y)"
      ],
      "metadata": {
        "colab": {
          "base_uri": "https://localhost:8080/"
        },
        "id": "wkyyvhVjWnZv",
        "outputId": "1dafc086-6e3b-49aa-b726-4cb279430d87"
      },
      "execution_count": 2,
      "outputs": [
        {
          "output_type": "stream",
          "name": "stdout",
          "text": [
            "sum of number from 1 to 10 is  55\n"
          ]
        }
      ]
    },
    {
      "cell_type": "markdown",
      "source": [
        "## 3. Calculate the factorial of a number using a for loop."
      ],
      "metadata": {
        "id": "XthSDh4OXF8A"
      }
    },
    {
      "cell_type": "code",
      "source": [
        "my_num = int(input(\"Enter a number : \"))\n",
        "product = 1\n",
        "for i in range(my_num):\n",
        "  product *= (i+1)\n",
        "print(\"The factorial of \",my_num, \" is \",product)\n"
      ],
      "metadata": {
        "id": "EriYwrGBZgCi",
        "colab": {
          "base_uri": "https://localhost:8080/"
        },
        "outputId": "71b0a8d4-deb3-4d98-bf8e-d352203c8d86"
      },
      "execution_count": 4,
      "outputs": [
        {
          "output_type": "stream",
          "name": "stdout",
          "text": [
            "Enter a number : 5\n",
            "The factorial of  5  is  120\n"
          ]
        }
      ]
    },
    {
      "cell_type": "markdown",
      "source": [
        "## 4. Count the number of vowels in a string using a for loop"
      ],
      "metadata": {
        "id": "H9sDB8l_oIQm"
      }
    },
    {
      "cell_type": "code",
      "source": [
        "my_str = input('Enter a string  : ')\n",
        "vow = {'a','i','e','o','u','A','I','E','O','U'}\n",
        "count = 0\n",
        "for i in my_str:\n",
        "  if i in vow:\n",
        "    count += 1\n",
        "\n",
        "print(\" The number of Vowels in \", my_str, \" is \", count)\n"
      ],
      "metadata": {
        "colab": {
          "base_uri": "https://localhost:8080/"
        },
        "id": "SQQUL3SfoTy4",
        "outputId": "67d4be46-7290-4089-a0a7-c58281703610"
      },
      "execution_count": 5,
      "outputs": [
        {
          "output_type": "stream",
          "name": "stdout",
          "text": [
            "Enter a string  : Samsung\n",
            " The number of Vowels in  Samsung  is  2\n"
          ]
        }
      ]
    },
    {
      "cell_type": "markdown",
      "source": [
        "## 5.Print a pattern using nested loops."
      ],
      "metadata": {
        "id": "dK-9w8hTrB20"
      }
    },
    {
      "cell_type": "code",
      "source": [
        "x = 6 # number of rows in patter\n",
        "for i in range(x):\n",
        "  for j in range(i+1):\n",
        "    print(\"*\", end = \" \")\n",
        "  print()"
      ],
      "metadata": {
        "colab": {
          "base_uri": "https://localhost:8080/"
        },
        "id": "D_KMNHRgrc7b",
        "outputId": "465a37bd-27db-45b8-dd3f-88806ba29940"
      },
      "execution_count": 6,
      "outputs": [
        {
          "output_type": "stream",
          "name": "stdout",
          "text": [
            "* \n",
            "* * \n",
            "* * * \n",
            "* * * * \n",
            "* * * * * \n",
            "* * * * * * \n"
          ]
        }
      ]
    },
    {
      "cell_type": "markdown",
      "source": [
        "## 6.Generate a multiplication table using nested loops."
      ],
      "metadata": {
        "id": "VRB1fDJCsqPO"
      }
    },
    {
      "cell_type": "code",
      "source": [
        "# Outer loop for rows (1 to 10)\n",
        "for i in range(1, 11):\n",
        "    # Inner loop for columns (1 to 10)\n",
        "    for j in range(1, 11):\n",
        "        # Print the product of i and j with proper formatting\n",
        "        print(f\"{i * j:5}\", end=\"    \")  # Adjust the width as needed\n",
        "    print()  # Move to the next line\n",
        "\n",
        "\n"
      ],
      "metadata": {
        "colab": {
          "base_uri": "https://localhost:8080/"
        },
        "id": "mQ94y-ddsrpA",
        "outputId": "48e31a85-9c92-4929-de65-e2c8035d89ba"
      },
      "execution_count": 7,
      "outputs": [
        {
          "output_type": "stream",
          "name": "stdout",
          "text": [
            "    1        2        3        4        5        6        7        8        9       10    \n",
            "    2        4        6        8       10       12       14       16       18       20    \n",
            "    3        6        9       12       15       18       21       24       27       30    \n",
            "    4        8       12       16       20       24       28       32       36       40    \n",
            "    5       10       15       20       25       30       35       40       45       50    \n",
            "    6       12       18       24       30       36       42       48       54       60    \n",
            "    7       14       21       28       35       42       49       56       63       70    \n",
            "    8       16       24       32       40       48       56       64       72       80    \n",
            "    9       18       27       36       45       54       63       72       81       90    \n",
            "   10       20       30       40       50       60       70       80       90      100    \n"
          ]
        }
      ]
    }
  ]
}