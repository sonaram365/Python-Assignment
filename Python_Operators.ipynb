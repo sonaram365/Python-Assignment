{
  "nbformat": 4,
  "nbformat_minor": 0,
  "metadata": {
    "colab": {
      "provenance": []
    },
    "kernelspec": {
      "name": "python3",
      "display_name": "Python 3"
    },
    "language_info": {
      "name": "python"
    }
  },
  "cells": [
    {
      "cell_type": "markdown",
      "source": [
        "# Python Operator"
      ],
      "metadata": {
        "id": "qJPH3KiVhMF4"
      }
    },
    {
      "cell_type": "markdown",
      "source": [
        "Assignement Questions\n",
        "\n",
        "1. Calculate the sum, difference, product, and quotient of two numbers.\n",
        "2. Perform various assignment operations on a variable.\n",
        "3. Compare two numbers and print the results.\n",
        "4. Check conditions using logical operators.\n",
        "5. Check the identity of variables.\n",
        "6. Perform bitwise operations on any two integers.\n",
        "7. Use unary operators to change the sign of a number.\n",
        "8. Use the ternary operator to assign values based on conditions.\n"
      ],
      "metadata": {
        "id": "MQwy6LJohVbU"
      }
    },
    {
      "cell_type": "markdown",
      "source": [
        "## 1.Calculate the sum, difference, product, and quotient of two numbers."
      ],
      "metadata": {
        "id": "HnUeHE6DiGMT"
      }
    },
    {
      "cell_type": "code",
      "source": [
        "# assigning two number\n",
        "num1 = 34\n",
        "num2 = 73"
      ],
      "metadata": {
        "id": "KbDG-2wDiMzU"
      },
      "execution_count": 106,
      "outputs": []
    },
    {
      "cell_type": "code",
      "source": [
        "# calculating the sum\n",
        "num1 + num2"
      ],
      "metadata": {
        "colab": {
          "base_uri": "https://localhost:8080/"
        },
        "id": "BV-W3n62ie6K",
        "outputId": "d5bada50-cacb-425e-c7be-128f3e1be0b9"
      },
      "execution_count": 107,
      "outputs": [
        {
          "output_type": "execute_result",
          "data": {
            "text/plain": [
              "107"
            ]
          },
          "metadata": {},
          "execution_count": 107
        }
      ]
    },
    {
      "cell_type": "code",
      "source": [
        "# Calculating the difference\n",
        "num1 - num2"
      ],
      "metadata": {
        "colab": {
          "base_uri": "https://localhost:8080/"
        },
        "id": "djrXsYmYiwfX",
        "outputId": "f395671e-55d5-44d5-d291-ba5169eb1133"
      },
      "execution_count": 108,
      "outputs": [
        {
          "output_type": "execute_result",
          "data": {
            "text/plain": [
              "-39"
            ]
          },
          "metadata": {},
          "execution_count": 108
        }
      ]
    },
    {
      "cell_type": "code",
      "source": [
        "# calculating the product\n",
        "num1 * num2"
      ],
      "metadata": {
        "colab": {
          "base_uri": "https://localhost:8080/"
        },
        "id": "vhbipf7Bi3yz",
        "outputId": "9de41516-e8c4-4e69-ce3c-2a791b5b16cd"
      },
      "execution_count": 109,
      "outputs": [
        {
          "output_type": "execute_result",
          "data": {
            "text/plain": [
              "2482"
            ]
          },
          "metadata": {},
          "execution_count": 109
        }
      ]
    },
    {
      "cell_type": "code",
      "source": [
        "# calculating the quotient\n",
        "num1/num2"
      ],
      "metadata": {
        "colab": {
          "base_uri": "https://localhost:8080/"
        },
        "id": "-Cw-tR8Ki9ls",
        "outputId": "dc7a20a8-fbaf-4928-ca2b-c294c3dafa5f"
      },
      "execution_count": 110,
      "outputs": [
        {
          "output_type": "execute_result",
          "data": {
            "text/plain": [
              "0.4657534246575342"
            ]
          },
          "metadata": {},
          "execution_count": 110
        }
      ]
    },
    {
      "cell_type": "markdown",
      "source": [
        "## 2. Perform various assignment operations on a variable."
      ],
      "metadata": {
        "id": "QQOzCyk5jsr8"
      }
    },
    {
      "cell_type": "code",
      "source": [
        "# simple assignment operator (=)\n",
        "\n",
        "my_var = 46"
      ],
      "metadata": {
        "id": "inE-FDcXjxAa"
      },
      "execution_count": 111,
      "outputs": []
    },
    {
      "cell_type": "code",
      "source": [
        "my_var"
      ],
      "metadata": {
        "colab": {
          "base_uri": "https://localhost:8080/"
        },
        "id": "1yyMZZZWoAdM",
        "outputId": "559c1826-15ca-4a71-d804-7476d39f026f"
      },
      "execution_count": 112,
      "outputs": [
        {
          "output_type": "execute_result",
          "data": {
            "text/plain": [
              "46"
            ]
          },
          "metadata": {},
          "execution_count": 112
        }
      ]
    },
    {
      "cell_type": "code",
      "source": [
        "# add and assgin (+=)\n",
        "my_var += 4"
      ],
      "metadata": {
        "id": "9cYi3glUoCID"
      },
      "execution_count": 113,
      "outputs": []
    },
    {
      "cell_type": "code",
      "source": [
        "my_var"
      ],
      "metadata": {
        "colab": {
          "base_uri": "https://localhost:8080/"
        },
        "id": "x8YP4eKppHqZ",
        "outputId": "ae6782d5-d2fd-454d-cd58-ab2eb6a665d8"
      },
      "execution_count": 114,
      "outputs": [
        {
          "output_type": "execute_result",
          "data": {
            "text/plain": [
              "50"
            ]
          },
          "metadata": {},
          "execution_count": 114
        }
      ]
    },
    {
      "cell_type": "code",
      "source": [
        "#substract and assign (-=)\n",
        "my_var -= 10"
      ],
      "metadata": {
        "id": "w0O_ahLxpItF"
      },
      "execution_count": 115,
      "outputs": []
    },
    {
      "cell_type": "code",
      "source": [
        "my_var"
      ],
      "metadata": {
        "colab": {
          "base_uri": "https://localhost:8080/"
        },
        "id": "U_rNkI48pR8e",
        "outputId": "6febe728-3e93-4348-9e01-69cc7e6ec44c"
      },
      "execution_count": 116,
      "outputs": [
        {
          "output_type": "execute_result",
          "data": {
            "text/plain": [
              "40"
            ]
          },
          "metadata": {},
          "execution_count": 116
        }
      ]
    },
    {
      "cell_type": "code",
      "source": [
        "#multple and assign (*=)\n",
        "my_var *= 2"
      ],
      "metadata": {
        "id": "mggvQQ9KpT_O"
      },
      "execution_count": 117,
      "outputs": []
    },
    {
      "cell_type": "code",
      "source": [
        "my_var"
      ],
      "metadata": {
        "colab": {
          "base_uri": "https://localhost:8080/"
        },
        "id": "SfOsw8UepeSe",
        "outputId": "e287a73a-8b66-498d-e515-9af6b610d8b8"
      },
      "execution_count": 118,
      "outputs": [
        {
          "output_type": "execute_result",
          "data": {
            "text/plain": [
              "80"
            ]
          },
          "metadata": {},
          "execution_count": 118
        }
      ]
    },
    {
      "cell_type": "code",
      "source": [
        "#divide and assign (/=)\n",
        "my_var /= 8"
      ],
      "metadata": {
        "id": "z-d-asmvpgG9"
      },
      "execution_count": 119,
      "outputs": []
    },
    {
      "cell_type": "code",
      "source": [
        "my_var"
      ],
      "metadata": {
        "colab": {
          "base_uri": "https://localhost:8080/"
        },
        "id": "tMAhd8BUpqJY",
        "outputId": "9a779470-4822-41d4-d144-cab4b14f7eb0"
      },
      "execution_count": 120,
      "outputs": [
        {
          "output_type": "execute_result",
          "data": {
            "text/plain": [
              "10.0"
            ]
          },
          "metadata": {},
          "execution_count": 120
        }
      ]
    },
    {
      "cell_type": "code",
      "source": [
        "#modulus and assign (%=)\n",
        "my_var %= 3"
      ],
      "metadata": {
        "id": "_1N99hj1prIC"
      },
      "execution_count": 121,
      "outputs": []
    },
    {
      "cell_type": "code",
      "source": [
        "my_var"
      ],
      "metadata": {
        "colab": {
          "base_uri": "https://localhost:8080/"
        },
        "id": "QX8uXCw4p7Ty",
        "outputId": "f2b8c98d-50ea-457c-a888-7122bddb0238"
      },
      "execution_count": 122,
      "outputs": [
        {
          "output_type": "execute_result",
          "data": {
            "text/plain": [
              "1.0"
            ]
          },
          "metadata": {},
          "execution_count": 122
        }
      ]
    },
    {
      "cell_type": "code",
      "source": [
        "#floor divide and assign (//=)\n",
        "my_var = 8\n",
        "my_var //= 3"
      ],
      "metadata": {
        "id": "HHwGqzl8p80e"
      },
      "execution_count": 123,
      "outputs": []
    },
    {
      "cell_type": "code",
      "source": [
        "my_var"
      ],
      "metadata": {
        "colab": {
          "base_uri": "https://localhost:8080/"
        },
        "id": "OwcM7EBpqWsK",
        "outputId": "ac2102b2-0d19-438c-9608-9e7157c80d78"
      },
      "execution_count": 124,
      "outputs": [
        {
          "output_type": "execute_result",
          "data": {
            "text/plain": [
              "2"
            ]
          },
          "metadata": {},
          "execution_count": 124
        }
      ]
    },
    {
      "cell_type": "code",
      "source": [
        "#exponent and assign (**=)\n",
        "my_var **= 3"
      ],
      "metadata": {
        "id": "_CJXVFZ4qYJZ"
      },
      "execution_count": 125,
      "outputs": []
    },
    {
      "cell_type": "code",
      "source": [
        "my_var"
      ],
      "metadata": {
        "colab": {
          "base_uri": "https://localhost:8080/"
        },
        "id": "b-dxJn_6qlz7",
        "outputId": "23bd5cd4-a29a-43da-9925-834cb73ed6d6"
      },
      "execution_count": 126,
      "outputs": [
        {
          "output_type": "execute_result",
          "data": {
            "text/plain": [
              "8"
            ]
          },
          "metadata": {},
          "execution_count": 126
        }
      ]
    },
    {
      "cell_type": "code",
      "source": [],
      "metadata": {
        "id": "7MkwZ5XPqmn8"
      },
      "execution_count": 126,
      "outputs": []
    },
    {
      "cell_type": "markdown",
      "source": [
        "## 3. Compare two numbers and print the results."
      ],
      "metadata": {
        "id": "UYO_wpFquD0M"
      }
    },
    {
      "cell_type": "code",
      "source": [
        "# assigning two number\n",
        "num1 = 43\n",
        "num2 = 56"
      ],
      "metadata": {
        "id": "fM5P7TUfuMgQ"
      },
      "execution_count": 127,
      "outputs": []
    },
    {
      "cell_type": "code",
      "source": [
        "# comparing the numbers"
      ],
      "metadata": {
        "id": "OWgs5vDQuZoW"
      },
      "execution_count": 128,
      "outputs": []
    },
    {
      "cell_type": "code",
      "source": [
        "num1 > num2"
      ],
      "metadata": {
        "colab": {
          "base_uri": "https://localhost:8080/"
        },
        "id": "9Ar7Cd13ueG6",
        "outputId": "06edee66-9568-48f6-bfbd-7bdf7c9b1865"
      },
      "execution_count": 129,
      "outputs": [
        {
          "output_type": "execute_result",
          "data": {
            "text/plain": [
              "False"
            ]
          },
          "metadata": {},
          "execution_count": 129
        }
      ]
    },
    {
      "cell_type": "code",
      "source": [
        "num1 < num2"
      ],
      "metadata": {
        "colab": {
          "base_uri": "https://localhost:8080/"
        },
        "id": "VHjHkzJtuhbn",
        "outputId": "418f01b2-aef1-4447-8940-1ae9b8c1f060"
      },
      "execution_count": 130,
      "outputs": [
        {
          "output_type": "execute_result",
          "data": {
            "text/plain": [
              "True"
            ]
          },
          "metadata": {},
          "execution_count": 130
        }
      ]
    },
    {
      "cell_type": "code",
      "source": [
        "num1 == num2"
      ],
      "metadata": {
        "colab": {
          "base_uri": "https://localhost:8080/"
        },
        "id": "PAWkwlsUumTu",
        "outputId": "7b9c034b-328a-4207-b147-e4e203350c91"
      },
      "execution_count": 131,
      "outputs": [
        {
          "output_type": "execute_result",
          "data": {
            "text/plain": [
              "False"
            ]
          },
          "metadata": {},
          "execution_count": 131
        }
      ]
    },
    {
      "cell_type": "code",
      "source": [
        "num1 != num2"
      ],
      "metadata": {
        "colab": {
          "base_uri": "https://localhost:8080/"
        },
        "id": "toit0r7AupKl",
        "outputId": "ea3fbab5-cd7e-41c0-999b-39754bc491f5"
      },
      "execution_count": 132,
      "outputs": [
        {
          "output_type": "execute_result",
          "data": {
            "text/plain": [
              "True"
            ]
          },
          "metadata": {},
          "execution_count": 132
        }
      ]
    },
    {
      "cell_type": "code",
      "source": [
        "num1 >= num2"
      ],
      "metadata": {
        "colab": {
          "base_uri": "https://localhost:8080/"
        },
        "id": "FU2MyhVXutDl",
        "outputId": "9872771f-6337-4eaf-eb2e-bbd46284354b"
      },
      "execution_count": 133,
      "outputs": [
        {
          "output_type": "execute_result",
          "data": {
            "text/plain": [
              "False"
            ]
          },
          "metadata": {},
          "execution_count": 133
        }
      ]
    },
    {
      "cell_type": "code",
      "source": [
        "num1 <= num2"
      ],
      "metadata": {
        "colab": {
          "base_uri": "https://localhost:8080/"
        },
        "id": "yRS4AqIduwU9",
        "outputId": "39d231f7-6ac8-493b-d55b-97347636ab12"
      },
      "execution_count": 134,
      "outputs": [
        {
          "output_type": "execute_result",
          "data": {
            "text/plain": [
              "True"
            ]
          },
          "metadata": {},
          "execution_count": 134
        }
      ]
    },
    {
      "cell_type": "markdown",
      "source": [
        "## 4. Check conditions using logical operators."
      ],
      "metadata": {
        "id": "vtapRCgjvMAJ"
      }
    },
    {
      "cell_type": "code",
      "source": [
        "# assigning two number\n",
        "a = 4\n",
        "b = 6"
      ],
      "metadata": {
        "id": "dFuqvi0SvNwC"
      },
      "execution_count": 135,
      "outputs": []
    },
    {
      "cell_type": "markdown",
      "source": [
        "## \"and\" Operator"
      ],
      "metadata": {
        "id": "gyvLRAh8xuzw"
      }
    },
    {
      "cell_type": "code",
      "source": [
        "#checking True and True condion\n",
        "a > 0 and b > 0"
      ],
      "metadata": {
        "colab": {
          "base_uri": "https://localhost:8080/"
        },
        "id": "Bj-6xhhXxG55",
        "outputId": "e74e4d90-cbee-4e6d-8d18-36581d6072bb"
      },
      "execution_count": 136,
      "outputs": [
        {
          "output_type": "execute_result",
          "data": {
            "text/plain": [
              "True"
            ]
          },
          "metadata": {},
          "execution_count": 136
        }
      ]
    },
    {
      "cell_type": "code",
      "source": [
        "#checking True and False conditon\n",
        "a>0 and b <0"
      ],
      "metadata": {
        "colab": {
          "base_uri": "https://localhost:8080/"
        },
        "id": "JLd92BdkxXNB",
        "outputId": "5d25d6e2-c209-4ab2-8e73-2a7e82410738"
      },
      "execution_count": 137,
      "outputs": [
        {
          "output_type": "execute_result",
          "data": {
            "text/plain": [
              "False"
            ]
          },
          "metadata": {},
          "execution_count": 137
        }
      ]
    },
    {
      "cell_type": "code",
      "source": [
        "#checking False and True condition\n",
        "a<0 and b<0"
      ],
      "metadata": {
        "colab": {
          "base_uri": "https://localhost:8080/"
        },
        "id": "xZE-aOmXxf7U",
        "outputId": "87217c80-0ca3-4b72-c2a8-7d564905e246"
      },
      "execution_count": 138,
      "outputs": [
        {
          "output_type": "execute_result",
          "data": {
            "text/plain": [
              "False"
            ]
          },
          "metadata": {},
          "execution_count": 138
        }
      ]
    },
    {
      "cell_type": "markdown",
      "source": [
        "### \"or\" Operator"
      ],
      "metadata": {
        "id": "Hq4anpA0x13m"
      }
    },
    {
      "cell_type": "code",
      "source": [
        "#checking True or True condition\n",
        "a>0 or b>0"
      ],
      "metadata": {
        "colab": {
          "base_uri": "https://localhost:8080/"
        },
        "id": "KKJTwmSQx6df",
        "outputId": "06c5e6fa-3144-4d99-a4af-3ffeaf074128"
      },
      "execution_count": 139,
      "outputs": [
        {
          "output_type": "execute_result",
          "data": {
            "text/plain": [
              "True"
            ]
          },
          "metadata": {},
          "execution_count": 139
        }
      ]
    },
    {
      "cell_type": "code",
      "source": [
        "#checking True or False condition\n",
        "a>0 or b<0"
      ],
      "metadata": {
        "colab": {
          "base_uri": "https://localhost:8080/"
        },
        "id": "1uqYRO7HyDv9",
        "outputId": "c1061fc1-db47-4bfc-9a9e-400e35474b96"
      },
      "execution_count": 140,
      "outputs": [
        {
          "output_type": "execute_result",
          "data": {
            "text/plain": [
              "True"
            ]
          },
          "metadata": {},
          "execution_count": 140
        }
      ]
    },
    {
      "cell_type": "code",
      "source": [
        "#checking False or True condion\n",
        "a<0 or b> 0"
      ],
      "metadata": {
        "colab": {
          "base_uri": "https://localhost:8080/"
        },
        "id": "j5sw9uDDyJ2-",
        "outputId": "b00b80d9-638e-4210-a66f-3ba04541c042"
      },
      "execution_count": 141,
      "outputs": [
        {
          "output_type": "execute_result",
          "data": {
            "text/plain": [
              "True"
            ]
          },
          "metadata": {},
          "execution_count": 141
        }
      ]
    },
    {
      "cell_type": "code",
      "source": [
        "#checking False or False condition\n",
        "a<0 or b <0"
      ],
      "metadata": {
        "colab": {
          "base_uri": "https://localhost:8080/"
        },
        "id": "pXutgMCFyW36",
        "outputId": "fdbab6df-157b-4659-f654-607ef0a3a6e6"
      },
      "execution_count": 142,
      "outputs": [
        {
          "output_type": "execute_result",
          "data": {
            "text/plain": [
              "False"
            ]
          },
          "metadata": {},
          "execution_count": 142
        }
      ]
    },
    {
      "cell_type": "markdown",
      "source": [
        "### \"not\" Operator"
      ],
      "metadata": {
        "id": "CeR6L-7oy67I"
      }
    },
    {
      "cell_type": "code",
      "source": [
        "# checking not True\n",
        "\n",
        "not a>0"
      ],
      "metadata": {
        "colab": {
          "base_uri": "https://localhost:8080/"
        },
        "id": "XUoKGBAXy_UA",
        "outputId": "bdcbc8bc-4270-4aa7-bb36-7c73a89c859f"
      },
      "execution_count": 143,
      "outputs": [
        {
          "output_type": "execute_result",
          "data": {
            "text/plain": [
              "False"
            ]
          },
          "metadata": {},
          "execution_count": 143
        }
      ]
    },
    {
      "cell_type": "code",
      "source": [
        "#checking not false\n",
        "not a<0"
      ],
      "metadata": {
        "colab": {
          "base_uri": "https://localhost:8080/"
        },
        "id": "VQ5AzBBqzQqI",
        "outputId": "1e12904e-04cf-4404-fd72-016849641764"
      },
      "execution_count": 144,
      "outputs": [
        {
          "output_type": "execute_result",
          "data": {
            "text/plain": [
              "True"
            ]
          },
          "metadata": {},
          "execution_count": 144
        }
      ]
    },
    {
      "cell_type": "markdown",
      "source": [
        "## 5.Check the identity of variables."
      ],
      "metadata": {
        "id": "3VPswy0108wj"
      }
    },
    {
      "cell_type": "code",
      "source": [
        "#assigning variables\n",
        "a  = 5\n",
        "b = 7\n",
        "c = a"
      ],
      "metadata": {
        "id": "TSDumFsx0_7T"
      },
      "execution_count": 145,
      "outputs": []
    },
    {
      "cell_type": "markdown",
      "source": [
        "\"is\" operator"
      ],
      "metadata": {
        "id": "dhntg78c79pC"
      }
    },
    {
      "cell_type": "code",
      "source": [
        " a is b"
      ],
      "metadata": {
        "colab": {
          "base_uri": "https://localhost:8080/"
        },
        "id": "9BklHT3v8EHO",
        "outputId": "c4ce0334-9288-4158-ade1-fe6313426c60"
      },
      "execution_count": 146,
      "outputs": [
        {
          "output_type": "execute_result",
          "data": {
            "text/plain": [
              "False"
            ]
          },
          "metadata": {},
          "execution_count": 146
        }
      ]
    },
    {
      "cell_type": "code",
      "source": [
        "a is c"
      ],
      "metadata": {
        "colab": {
          "base_uri": "https://localhost:8080/"
        },
        "id": "Z8jCx3JE8HC6",
        "outputId": "bef244fb-3995-4916-dabe-16f2be07d63b"
      },
      "execution_count": 147,
      "outputs": [
        {
          "output_type": "execute_result",
          "data": {
            "text/plain": [
              "True"
            ]
          },
          "metadata": {},
          "execution_count": 147
        }
      ]
    },
    {
      "cell_type": "code",
      "source": [
        "# assigning string variables\n",
        "x = \"cat\"\n",
        "y = \"dog\"\n",
        "z = \"cat\"\n",
        "\n",
        "x is z"
      ],
      "metadata": {
        "colab": {
          "base_uri": "https://localhost:8080/"
        },
        "id": "78A_aEje8I-O",
        "outputId": "52518ab1-9b2f-40ac-a9ba-00c3465d4e35"
      },
      "execution_count": 148,
      "outputs": [
        {
          "output_type": "execute_result",
          "data": {
            "text/plain": [
              "True"
            ]
          },
          "metadata": {},
          "execution_count": 148
        }
      ]
    },
    {
      "cell_type": "code",
      "source": [
        "x is y"
      ],
      "metadata": {
        "colab": {
          "base_uri": "https://localhost:8080/"
        },
        "id": "GMhq-8PH8bZ4",
        "outputId": "ebe9c543-b866-4556-9ad0-74ef2201e25e"
      },
      "execution_count": 149,
      "outputs": [
        {
          "output_type": "execute_result",
          "data": {
            "text/plain": [
              "False"
            ]
          },
          "metadata": {},
          "execution_count": 149
        }
      ]
    },
    {
      "cell_type": "markdown",
      "source": [
        "### \"is not Operator"
      ],
      "metadata": {
        "id": "JjJQWb049CH4"
      }
    },
    {
      "cell_type": "code",
      "source": [
        "x is not z"
      ],
      "metadata": {
        "colab": {
          "base_uri": "https://localhost:8080/"
        },
        "id": "aZVZHBKi9F3a",
        "outputId": "82e5147a-c9a4-452b-a36e-02f9741282ea"
      },
      "execution_count": 150,
      "outputs": [
        {
          "output_type": "execute_result",
          "data": {
            "text/plain": [
              "False"
            ]
          },
          "metadata": {},
          "execution_count": 150
        }
      ]
    },
    {
      "cell_type": "code",
      "source": [
        "x is not y"
      ],
      "metadata": {
        "colab": {
          "base_uri": "https://localhost:8080/"
        },
        "id": "VCZsBYsT9IZ6",
        "outputId": "266acb04-7b52-4109-a025-1f783d4f26ee"
      },
      "execution_count": 151,
      "outputs": [
        {
          "output_type": "execute_result",
          "data": {
            "text/plain": [
              "True"
            ]
          },
          "metadata": {},
          "execution_count": 151
        }
      ]
    },
    {
      "cell_type": "markdown",
      "source": [
        "## 6. Perform bitwise operations on any two integers"
      ],
      "metadata": {
        "id": "1nSZ3tw_83QS"
      }
    },
    {
      "cell_type": "code",
      "source": [
        "# assigning two interers\n",
        "my_int_1 = 5\n",
        "my_int_2 = 9"
      ],
      "metadata": {
        "id": "PITHgsmi85Di"
      },
      "execution_count": 152,
      "outputs": []
    },
    {
      "cell_type": "code",
      "source": [
        "#checking binary of my_int_1 that is 5\n",
        "bin(5)"
      ],
      "metadata": {
        "colab": {
          "base_uri": "https://localhost:8080/",
          "height": 36
        },
        "id": "h_GCJTvF-Psm",
        "outputId": "da13caca-e222-4e72-d688-7af564125b14"
      },
      "execution_count": 153,
      "outputs": [
        {
          "output_type": "execute_result",
          "data": {
            "text/plain": [
              "'0b101'"
            ],
            "application/vnd.google.colaboratory.intrinsic+json": {
              "type": "string"
            }
          },
          "metadata": {},
          "execution_count": 153
        }
      ]
    },
    {
      "cell_type": "code",
      "source": [
        "#checking binary of my_int_2 that is 9\n",
        "bin(9)"
      ],
      "metadata": {
        "colab": {
          "base_uri": "https://localhost:8080/",
          "height": 36
        },
        "id": "4P0XFeAJ-QPU",
        "outputId": "cbe5906d-c69d-4353-cda4-ab93af22f8e6"
      },
      "execution_count": 154,
      "outputs": [
        {
          "output_type": "execute_result",
          "data": {
            "text/plain": [
              "'0b1001'"
            ],
            "application/vnd.google.colaboratory.intrinsic+json": {
              "type": "string"
            }
          },
          "metadata": {},
          "execution_count": 154
        }
      ]
    },
    {
      "cell_type": "markdown",
      "source": [
        "### and opetator (&)"
      ],
      "metadata": {
        "id": "UUNtxNJm-uvb"
      }
    },
    {
      "cell_type": "code",
      "source": [
        "my_int_1 & my_int_2"
      ],
      "metadata": {
        "colab": {
          "base_uri": "https://localhost:8080/"
        },
        "id": "cEplr5pQ-w0R",
        "outputId": "474e1046-9dbb-48a6-a905-c518b2284b0c"
      },
      "execution_count": 155,
      "outputs": [
        {
          "output_type": "execute_result",
          "data": {
            "text/plain": [
              "1"
            ]
          },
          "metadata": {},
          "execution_count": 155
        }
      ]
    },
    {
      "cell_type": "code",
      "source": [
        "bin(1)"
      ],
      "metadata": {
        "colab": {
          "base_uri": "https://localhost:8080/",
          "height": 36
        },
        "id": "WQxoLnur-6TD",
        "outputId": "362e8b68-0f3b-4f11-86d5-1c50a08ab21b"
      },
      "execution_count": 156,
      "outputs": [
        {
          "output_type": "execute_result",
          "data": {
            "text/plain": [
              "'0b1'"
            ],
            "application/vnd.google.colaboratory.intrinsic+json": {
              "type": "string"
            }
          },
          "metadata": {},
          "execution_count": 156
        }
      ]
    },
    {
      "cell_type": "code",
      "source": [
        "# OR operator (\"|\")\n",
        "my_int_1 | my_int_2"
      ],
      "metadata": {
        "colab": {
          "base_uri": "https://localhost:8080/"
        },
        "id": "6AdZLggf_APH",
        "outputId": "49c254a7-5ac4-42a1-fde2-3a10bbc32a5a"
      },
      "execution_count": 157,
      "outputs": [
        {
          "output_type": "execute_result",
          "data": {
            "text/plain": [
              "13"
            ]
          },
          "metadata": {},
          "execution_count": 157
        }
      ]
    },
    {
      "cell_type": "code",
      "source": [
        "bin(13)"
      ],
      "metadata": {
        "colab": {
          "base_uri": "https://localhost:8080/",
          "height": 36
        },
        "id": "lM29hXhW_l-R",
        "outputId": "5eb321ca-b346-4acd-f2e6-c9748cf43105"
      },
      "execution_count": 158,
      "outputs": [
        {
          "output_type": "execute_result",
          "data": {
            "text/plain": [
              "'0b1101'"
            ],
            "application/vnd.google.colaboratory.intrinsic+json": {
              "type": "string"
            }
          },
          "metadata": {},
          "execution_count": 158
        }
      ]
    },
    {
      "cell_type": "markdown",
      "source": [
        "### XOR operator (^)"
      ],
      "metadata": {
        "id": "zPMpKI5W_s5Z"
      }
    },
    {
      "cell_type": "code",
      "source": [
        "my_int_1 ^ my_int_2"
      ],
      "metadata": {
        "colab": {
          "base_uri": "https://localhost:8080/"
        },
        "id": "4QxHsOq7_0je",
        "outputId": "8536a505-4663-4283-dfb2-54b70c181df6"
      },
      "execution_count": 159,
      "outputs": [
        {
          "output_type": "execute_result",
          "data": {
            "text/plain": [
              "12"
            ]
          },
          "metadata": {},
          "execution_count": 159
        }
      ]
    },
    {
      "cell_type": "code",
      "source": [
        "bin(12)"
      ],
      "metadata": {
        "colab": {
          "base_uri": "https://localhost:8080/",
          "height": 36
        },
        "id": "2DqZ1v2d_6_U",
        "outputId": "5e0264a2-762d-4b5d-aba4-863ddc25e518"
      },
      "execution_count": 160,
      "outputs": [
        {
          "output_type": "execute_result",
          "data": {
            "text/plain": [
              "'0b1100'"
            ],
            "application/vnd.google.colaboratory.intrinsic+json": {
              "type": "string"
            }
          },
          "metadata": {},
          "execution_count": 160
        }
      ]
    },
    {
      "cell_type": "markdown",
      "source": [
        "### left shift (<<)"
      ],
      "metadata": {
        "id": "wxEzk7dVAce1"
      }
    },
    {
      "cell_type": "code",
      "source": [
        "my_int_1"
      ],
      "metadata": {
        "colab": {
          "base_uri": "https://localhost:8080/"
        },
        "id": "DHWRhtwmAjd9",
        "outputId": "ec7a8d50-d36a-427e-92d2-eea3802180b5"
      },
      "execution_count": 161,
      "outputs": [
        {
          "output_type": "execute_result",
          "data": {
            "text/plain": [
              "5"
            ]
          },
          "metadata": {},
          "execution_count": 161
        }
      ]
    },
    {
      "cell_type": "code",
      "source": [
        "my_int_1 <<3"
      ],
      "metadata": {
        "colab": {
          "base_uri": "https://localhost:8080/"
        },
        "id": "uj3qM-2bAmzD",
        "outputId": "e771d3d3-15d1-4442-906d-ea45c7a824cf"
      },
      "execution_count": 162,
      "outputs": [
        {
          "output_type": "execute_result",
          "data": {
            "text/plain": [
              "40"
            ]
          },
          "metadata": {},
          "execution_count": 162
        }
      ]
    },
    {
      "cell_type": "code",
      "source": [
        "print(bin(5))\n",
        "print(bin(40))"
      ],
      "metadata": {
        "colab": {
          "base_uri": "https://localhost:8080/"
        },
        "id": "q_Db4uiUAqfx",
        "outputId": "74b3d7a2-70b1-4594-e9cc-fceed054d1dd"
      },
      "execution_count": 163,
      "outputs": [
        {
          "output_type": "stream",
          "name": "stdout",
          "text": [
            "0b101\n",
            "0b101000\n"
          ]
        }
      ]
    },
    {
      "cell_type": "markdown",
      "source": [
        "### RIght shift (>>>)"
      ],
      "metadata": {
        "id": "zH70LVRIA5v8"
      }
    },
    {
      "cell_type": "code",
      "source": [
        "40 >> 3"
      ],
      "metadata": {
        "colab": {
          "base_uri": "https://localhost:8080/"
        },
        "id": "DUQ1-P7cA9Cy",
        "outputId": "59c88597-3117-45f0-cd81-0e1bbb1cf91f"
      },
      "execution_count": 164,
      "outputs": [
        {
          "output_type": "execute_result",
          "data": {
            "text/plain": [
              "5"
            ]
          },
          "metadata": {},
          "execution_count": 164
        }
      ]
    },
    {
      "cell_type": "markdown",
      "source": [
        "### 7. Use unary operators to change the sign of a number."
      ],
      "metadata": {
        "id": "Tr7Zkv9cBKqb"
      }
    },
    {
      "cell_type": "code",
      "source": [
        "# assigning variables\n",
        "num1 = 5\n",
        "num2 = -8\n",
        "\n",
        "#using unary operator to change the sign\n",
        "print(-num1)\n",
        "print(-num2)"
      ],
      "metadata": {
        "id": "5wM-G1rnBMjW",
        "colab": {
          "base_uri": "https://localhost:8080/"
        },
        "outputId": "ca763773-2c41-48cb-8757-03a521a268b6"
      },
      "execution_count": 165,
      "outputs": [
        {
          "output_type": "stream",
          "name": "stdout",
          "text": [
            "-5\n",
            "8\n"
          ]
        }
      ]
    },
    {
      "cell_type": "markdown",
      "source": [
        "## 8.Use the ternary operator to assign values based on conditions."
      ],
      "metadata": {
        "id": "90B3LJPODiNc"
      }
    },
    {
      "cell_type": "code",
      "source": [
        "# assigning a varible\n",
        "\n",
        "age = 25\n",
        "\n",
        "\n",
        "y = \"eligible for vote\" if  age > 18 else \" not eligible for vote\""
      ],
      "metadata": {
        "id": "exZhN-EiDq_R"
      },
      "execution_count": 166,
      "outputs": []
    },
    {
      "cell_type": "code",
      "source": [
        "y"
      ],
      "metadata": {
        "colab": {
          "base_uri": "https://localhost:8080/",
          "height": 36
        },
        "id": "Uq8VHKuFEMnt",
        "outputId": "0371d712-90fc-4225-8c7c-da7b924416c8"
      },
      "execution_count": 167,
      "outputs": [
        {
          "output_type": "execute_result",
          "data": {
            "text/plain": [
              "'eligible for vote'"
            ],
            "application/vnd.google.colaboratory.intrinsic+json": {
              "type": "string"
            }
          },
          "metadata": {},
          "execution_count": 167
        }
      ]
    },
    {
      "cell_type": "code",
      "source": [
        "age = 18\n",
        "\n",
        "\n",
        "y = \"eligible for vote\" if  age > 18 else \" not eligible for vote\"\n"
      ],
      "metadata": {
        "id": "K0vVLn1YENBm"
      },
      "execution_count": 168,
      "outputs": []
    },
    {
      "cell_type": "code",
      "source": [
        "y"
      ],
      "metadata": {
        "colab": {
          "base_uri": "https://localhost:8080/",
          "height": 36
        },
        "id": "dADosSuEES-f",
        "outputId": "117debca-4a58-498d-c90c-c5b77ba8cdba"
      },
      "execution_count": 169,
      "outputs": [
        {
          "output_type": "execute_result",
          "data": {
            "text/plain": [
              "' not eligible for vote'"
            ],
            "application/vnd.google.colaboratory.intrinsic+json": {
              "type": "string"
            }
          },
          "metadata": {},
          "execution_count": 169
        }
      ]
    },
    {
      "cell_type": "code",
      "source": [],
      "metadata": {
        "id": "Rmn_Wt7FETyU"
      },
      "execution_count": 169,
      "outputs": []
    }
  ]
}