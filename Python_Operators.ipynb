{
  "nbformat": 4,
  "nbformat_minor": 0,
  "metadata": {
    "colab": {
      "provenance": []
    },
    "kernelspec": {
      "name": "python3",
      "display_name": "Python 3"
    },
    "language_info": {
      "name": "python"
    }
  },
  "cells": [
    {
      "cell_type": "markdown",
      "source": [
        "# Python Operator"
      ],
      "metadata": {
        "id": "qJPH3KiVhMF4"
      }
    },
    {
      "cell_type": "markdown",
      "source": [
        "Assignement Questions\n",
        "\n",
        "1. Calculate the sum, difference, product, and quotient of two numbers.\n",
        "2. Perform various assignment operations on a variable.\n",
        "3. Compare two numbers and print the results.\n",
        "4. Check conditions using logical operators.\n",
        "5. Check the identity of variables.\n",
        "6. Perform bitwise operations on any two integers.\n",
        "7. Use unary operators to change the sign of a number.\n",
        "8. Use the ternary operator to assign values based on conditions.\n"
      ],
      "metadata": {
        "id": "MQwy6LJohVbU"
      }
    },
    {
      "cell_type": "markdown",
      "source": [
        "## 1.Calculate the sum, difference, product, and quotient of two numbers."
      ],
      "metadata": {
        "id": "HnUeHE6DiGMT"
      }
    },
    {
      "cell_type": "code",
      "source": [
        "# assigning two number\n",
        "num1 = 34\n",
        "num2 = 73"
      ],
      "metadata": {
        "id": "KbDG-2wDiMzU"
      },
      "execution_count": 1,
      "outputs": []
    },
    {
      "cell_type": "code",
      "source": [
        "# calculating the sum\n",
        "num1 + num2"
      ],
      "metadata": {
        "colab": {
          "base_uri": "https://localhost:8080/"
        },
        "id": "BV-W3n62ie6K",
        "outputId": "6b6424d7-09ca-4908-87d8-57f1e670d93e"
      },
      "execution_count": 2,
      "outputs": [
        {
          "output_type": "execute_result",
          "data": {
            "text/plain": [
              "107"
            ]
          },
          "metadata": {},
          "execution_count": 2
        }
      ]
    },
    {
      "cell_type": "code",
      "source": [
        "# Calculating the difference\n",
        "num1 - num2"
      ],
      "metadata": {
        "colab": {
          "base_uri": "https://localhost:8080/"
        },
        "id": "djrXsYmYiwfX",
        "outputId": "c368ddd0-8141-44cd-bc3d-07b4ecf1af3f"
      },
      "execution_count": 3,
      "outputs": [
        {
          "output_type": "execute_result",
          "data": {
            "text/plain": [
              "-39"
            ]
          },
          "metadata": {},
          "execution_count": 3
        }
      ]
    },
    {
      "cell_type": "code",
      "source": [
        "# calculating the product\n",
        "num1 * num2"
      ],
      "metadata": {
        "colab": {
          "base_uri": "https://localhost:8080/"
        },
        "id": "vhbipf7Bi3yz",
        "outputId": "89299347-1810-4b54-93b8-9b6833f68f2d"
      },
      "execution_count": 4,
      "outputs": [
        {
          "output_type": "execute_result",
          "data": {
            "text/plain": [
              "2482"
            ]
          },
          "metadata": {},
          "execution_count": 4
        }
      ]
    },
    {
      "cell_type": "code",
      "source": [
        "# calculating the quotient\n",
        "num1/num2"
      ],
      "metadata": {
        "colab": {
          "base_uri": "https://localhost:8080/"
        },
        "id": "-Cw-tR8Ki9ls",
        "outputId": "b4ba1fd8-5ddb-424a-f887-c76dd2d0a161"
      },
      "execution_count": 5,
      "outputs": [
        {
          "output_type": "execute_result",
          "data": {
            "text/plain": [
              "0.4657534246575342"
            ]
          },
          "metadata": {},
          "execution_count": 5
        }
      ]
    },
    {
      "cell_type": "markdown",
      "source": [
        "## 2. Perform various assignment operations on a variable."
      ],
      "metadata": {
        "id": "QQOzCyk5jsr8"
      }
    },
    {
      "cell_type": "code",
      "source": [
        "# simple assignment operator (=)\n",
        "\n",
        "my_var = 46"
      ],
      "metadata": {
        "id": "inE-FDcXjxAa"
      },
      "execution_count": 6,
      "outputs": []
    },
    {
      "cell_type": "code",
      "source": [
        "my_var"
      ],
      "metadata": {
        "colab": {
          "base_uri": "https://localhost:8080/"
        },
        "id": "1yyMZZZWoAdM",
        "outputId": "efa825ea-2fa0-46ea-8056-7e2d3012e454"
      },
      "execution_count": 7,
      "outputs": [
        {
          "output_type": "execute_result",
          "data": {
            "text/plain": [
              "46"
            ]
          },
          "metadata": {},
          "execution_count": 7
        }
      ]
    },
    {
      "cell_type": "code",
      "source": [
        "# add and assgin (+=)\n",
        "my_var += 4"
      ],
      "metadata": {
        "id": "9cYi3glUoCID"
      },
      "execution_count": 8,
      "outputs": []
    },
    {
      "cell_type": "code",
      "source": [
        "my_var"
      ],
      "metadata": {
        "colab": {
          "base_uri": "https://localhost:8080/"
        },
        "id": "x8YP4eKppHqZ",
        "outputId": "cc27f528-52af-412b-87b6-d77e01e211e0"
      },
      "execution_count": 9,
      "outputs": [
        {
          "output_type": "execute_result",
          "data": {
            "text/plain": [
              "50"
            ]
          },
          "metadata": {},
          "execution_count": 9
        }
      ]
    },
    {
      "cell_type": "code",
      "source": [
        "#substract and assign (-=)\n",
        "my_var -= 10"
      ],
      "metadata": {
        "id": "w0O_ahLxpItF"
      },
      "execution_count": 10,
      "outputs": []
    },
    {
      "cell_type": "code",
      "source": [
        "my_var"
      ],
      "metadata": {
        "colab": {
          "base_uri": "https://localhost:8080/"
        },
        "id": "U_rNkI48pR8e",
        "outputId": "b2b44362-c3f8-4247-c0c1-6a3060947a6b"
      },
      "execution_count": 11,
      "outputs": [
        {
          "output_type": "execute_result",
          "data": {
            "text/plain": [
              "40"
            ]
          },
          "metadata": {},
          "execution_count": 11
        }
      ]
    },
    {
      "cell_type": "code",
      "source": [
        "#multple and assign (*=)\n",
        "my_var *= 2"
      ],
      "metadata": {
        "id": "mggvQQ9KpT_O"
      },
      "execution_count": 12,
      "outputs": []
    },
    {
      "cell_type": "code",
      "source": [
        "my_var"
      ],
      "metadata": {
        "colab": {
          "base_uri": "https://localhost:8080/"
        },
        "id": "SfOsw8UepeSe",
        "outputId": "546c7632-884f-4c65-d769-6a5ce0890581"
      },
      "execution_count": 13,
      "outputs": [
        {
          "output_type": "execute_result",
          "data": {
            "text/plain": [
              "80"
            ]
          },
          "metadata": {},
          "execution_count": 13
        }
      ]
    },
    {
      "cell_type": "code",
      "source": [
        "#divide and assign (/=)\n",
        "my_var /= 8"
      ],
      "metadata": {
        "id": "z-d-asmvpgG9"
      },
      "execution_count": 14,
      "outputs": []
    },
    {
      "cell_type": "code",
      "source": [
        "my_var"
      ],
      "metadata": {
        "colab": {
          "base_uri": "https://localhost:8080/"
        },
        "id": "tMAhd8BUpqJY",
        "outputId": "b0f45630-5c53-423d-ee77-375c617651da"
      },
      "execution_count": 15,
      "outputs": [
        {
          "output_type": "execute_result",
          "data": {
            "text/plain": [
              "10.0"
            ]
          },
          "metadata": {},
          "execution_count": 15
        }
      ]
    },
    {
      "cell_type": "code",
      "source": [
        "#modulus and assign (%=)\n",
        "my_var %= 3"
      ],
      "metadata": {
        "id": "_1N99hj1prIC"
      },
      "execution_count": 16,
      "outputs": []
    },
    {
      "cell_type": "code",
      "source": [
        "my_var"
      ],
      "metadata": {
        "colab": {
          "base_uri": "https://localhost:8080/"
        },
        "id": "QX8uXCw4p7Ty",
        "outputId": "a91888e8-7d52-4178-e715-b1510c22c8a5"
      },
      "execution_count": 17,
      "outputs": [
        {
          "output_type": "execute_result",
          "data": {
            "text/plain": [
              "1.0"
            ]
          },
          "metadata": {},
          "execution_count": 17
        }
      ]
    },
    {
      "cell_type": "code",
      "source": [
        "#floor divide and assign (//=)\n",
        "my_var = 8\n",
        "my_var //= 3"
      ],
      "metadata": {
        "id": "HHwGqzl8p80e"
      },
      "execution_count": 18,
      "outputs": []
    },
    {
      "cell_type": "code",
      "source": [
        "my_var"
      ],
      "metadata": {
        "colab": {
          "base_uri": "https://localhost:8080/"
        },
        "id": "OwcM7EBpqWsK",
        "outputId": "4ea91051-ccc3-46aa-b6a9-35f45e49a942"
      },
      "execution_count": 19,
      "outputs": [
        {
          "output_type": "execute_result",
          "data": {
            "text/plain": [
              "2"
            ]
          },
          "metadata": {},
          "execution_count": 19
        }
      ]
    },
    {
      "cell_type": "code",
      "source": [
        "#exponent and assign (**=)\n",
        "my_var **= 3"
      ],
      "metadata": {
        "id": "_CJXVFZ4qYJZ"
      },
      "execution_count": 20,
      "outputs": []
    },
    {
      "cell_type": "code",
      "source": [
        "my_var"
      ],
      "metadata": {
        "colab": {
          "base_uri": "https://localhost:8080/"
        },
        "id": "b-dxJn_6qlz7",
        "outputId": "84634f40-838f-4707-9124-6049a847adbe"
      },
      "execution_count": 21,
      "outputs": [
        {
          "output_type": "execute_result",
          "data": {
            "text/plain": [
              "8"
            ]
          },
          "metadata": {},
          "execution_count": 21
        }
      ]
    },
    {
      "cell_type": "code",
      "source": [],
      "metadata": {
        "id": "7MkwZ5XPqmn8"
      },
      "execution_count": 21,
      "outputs": []
    },
    {
      "cell_type": "markdown",
      "source": [
        "## 3. Compare two numbers and print the results."
      ],
      "metadata": {
        "id": "UYO_wpFquD0M"
      }
    },
    {
      "cell_type": "code",
      "source": [
        "# assigning two number\n",
        "num1 = 43\n",
        "num2 = 56"
      ],
      "metadata": {
        "id": "fM5P7TUfuMgQ"
      },
      "execution_count": 22,
      "outputs": []
    },
    {
      "cell_type": "code",
      "source": [
        "# comparing the numbers"
      ],
      "metadata": {
        "id": "OWgs5vDQuZoW"
      },
      "execution_count": 23,
      "outputs": []
    },
    {
      "cell_type": "code",
      "source": [
        "num1 > num2"
      ],
      "metadata": {
        "colab": {
          "base_uri": "https://localhost:8080/"
        },
        "id": "9Ar7Cd13ueG6",
        "outputId": "17f62128-7696-4268-dbd5-d7794bce2046"
      },
      "execution_count": 24,
      "outputs": [
        {
          "output_type": "execute_result",
          "data": {
            "text/plain": [
              "False"
            ]
          },
          "metadata": {},
          "execution_count": 24
        }
      ]
    },
    {
      "cell_type": "code",
      "source": [
        "num1 < num2"
      ],
      "metadata": {
        "colab": {
          "base_uri": "https://localhost:8080/"
        },
        "id": "VHjHkzJtuhbn",
        "outputId": "2548e060-aa46-4f78-c3a2-a93eeb1d86f9"
      },
      "execution_count": 25,
      "outputs": [
        {
          "output_type": "execute_result",
          "data": {
            "text/plain": [
              "True"
            ]
          },
          "metadata": {},
          "execution_count": 25
        }
      ]
    },
    {
      "cell_type": "code",
      "source": [
        "num1 == num2"
      ],
      "metadata": {
        "colab": {
          "base_uri": "https://localhost:8080/"
        },
        "id": "PAWkwlsUumTu",
        "outputId": "724bf4d2-03b3-46b5-edc5-e533be2741c0"
      },
      "execution_count": 26,
      "outputs": [
        {
          "output_type": "execute_result",
          "data": {
            "text/plain": [
              "False"
            ]
          },
          "metadata": {},
          "execution_count": 26
        }
      ]
    },
    {
      "cell_type": "code",
      "source": [
        "num1 != num2"
      ],
      "metadata": {
        "colab": {
          "base_uri": "https://localhost:8080/"
        },
        "id": "toit0r7AupKl",
        "outputId": "cb3767d0-f82f-45bd-8dd2-a11d4cdbda02"
      },
      "execution_count": 27,
      "outputs": [
        {
          "output_type": "execute_result",
          "data": {
            "text/plain": [
              "True"
            ]
          },
          "metadata": {},
          "execution_count": 27
        }
      ]
    },
    {
      "cell_type": "code",
      "source": [
        "num1 >= num2"
      ],
      "metadata": {
        "colab": {
          "base_uri": "https://localhost:8080/"
        },
        "id": "FU2MyhVXutDl",
        "outputId": "f9b3932e-76eb-494c-903e-b2059d107bbd"
      },
      "execution_count": 28,
      "outputs": [
        {
          "output_type": "execute_result",
          "data": {
            "text/plain": [
              "False"
            ]
          },
          "metadata": {},
          "execution_count": 28
        }
      ]
    },
    {
      "cell_type": "code",
      "source": [
        "num1 <= num2"
      ],
      "metadata": {
        "colab": {
          "base_uri": "https://localhost:8080/"
        },
        "id": "yRS4AqIduwU9",
        "outputId": "3b54f8c8-115f-4cb8-8348-ad2bc1064273"
      },
      "execution_count": 29,
      "outputs": [
        {
          "output_type": "execute_result",
          "data": {
            "text/plain": [
              "True"
            ]
          },
          "metadata": {},
          "execution_count": 29
        }
      ]
    },
    {
      "cell_type": "markdown",
      "source": [
        "## 4. Check conditions using logical operators."
      ],
      "metadata": {
        "id": "vtapRCgjvMAJ"
      }
    },
    {
      "cell_type": "code",
      "source": [
        "# assigning two number\n",
        "a = 4\n",
        "b = 6"
      ],
      "metadata": {
        "id": "dFuqvi0SvNwC"
      },
      "execution_count": 30,
      "outputs": []
    },
    {
      "cell_type": "markdown",
      "source": [
        "## \"and\" Operator"
      ],
      "metadata": {
        "id": "gyvLRAh8xuzw"
      }
    },
    {
      "cell_type": "code",
      "source": [
        "#checking True and True condion\n",
        "a > 0 and b > 0"
      ],
      "metadata": {
        "colab": {
          "base_uri": "https://localhost:8080/"
        },
        "id": "Bj-6xhhXxG55",
        "outputId": "87901e71-3ee0-4300-e429-38135ac08d20"
      },
      "execution_count": 31,
      "outputs": [
        {
          "output_type": "execute_result",
          "data": {
            "text/plain": [
              "True"
            ]
          },
          "metadata": {},
          "execution_count": 31
        }
      ]
    },
    {
      "cell_type": "code",
      "source": [
        "#checking True and False conditon\n",
        "a>0 and b <0"
      ],
      "metadata": {
        "colab": {
          "base_uri": "https://localhost:8080/"
        },
        "id": "JLd92BdkxXNB",
        "outputId": "4e63de0a-80bc-4c0a-ab9e-bfbee278f475"
      },
      "execution_count": 32,
      "outputs": [
        {
          "output_type": "execute_result",
          "data": {
            "text/plain": [
              "False"
            ]
          },
          "metadata": {},
          "execution_count": 32
        }
      ]
    },
    {
      "cell_type": "code",
      "source": [
        "#checking False and True condition\n",
        "a<0 and b<0"
      ],
      "metadata": {
        "colab": {
          "base_uri": "https://localhost:8080/"
        },
        "id": "xZE-aOmXxf7U",
        "outputId": "09ab71d9-a7c3-4ef0-a51b-54607629faa4"
      },
      "execution_count": 33,
      "outputs": [
        {
          "output_type": "execute_result",
          "data": {
            "text/plain": [
              "False"
            ]
          },
          "metadata": {},
          "execution_count": 33
        }
      ]
    },
    {
      "cell_type": "markdown",
      "source": [
        "### \"or\" Operator"
      ],
      "metadata": {
        "id": "Hq4anpA0x13m"
      }
    },
    {
      "cell_type": "code",
      "source": [
        "#checking True or True condition\n",
        "a>0 or b>0"
      ],
      "metadata": {
        "colab": {
          "base_uri": "https://localhost:8080/"
        },
        "id": "KKJTwmSQx6df",
        "outputId": "f362a1eb-db73-4990-c438-922371d3dfb2"
      },
      "execution_count": 34,
      "outputs": [
        {
          "output_type": "execute_result",
          "data": {
            "text/plain": [
              "True"
            ]
          },
          "metadata": {},
          "execution_count": 34
        }
      ]
    },
    {
      "cell_type": "code",
      "source": [
        "#checking True or False condition\n",
        "a>0 or b<0"
      ],
      "metadata": {
        "colab": {
          "base_uri": "https://localhost:8080/"
        },
        "id": "1uqYRO7HyDv9",
        "outputId": "13a7b1d1-4092-4570-e8a8-f10441c4b11f"
      },
      "execution_count": 35,
      "outputs": [
        {
          "output_type": "execute_result",
          "data": {
            "text/plain": [
              "True"
            ]
          },
          "metadata": {},
          "execution_count": 35
        }
      ]
    },
    {
      "cell_type": "code",
      "source": [
        "#checking False or True condion\n",
        "a<0 or b> 0"
      ],
      "metadata": {
        "colab": {
          "base_uri": "https://localhost:8080/"
        },
        "id": "j5sw9uDDyJ2-",
        "outputId": "b0c32504-8698-49b1-f2a1-e93a5c369a1a"
      },
      "execution_count": 36,
      "outputs": [
        {
          "output_type": "execute_result",
          "data": {
            "text/plain": [
              "True"
            ]
          },
          "metadata": {},
          "execution_count": 36
        }
      ]
    },
    {
      "cell_type": "code",
      "source": [
        "#checking False or False condition\n",
        "a<0 or b <0"
      ],
      "metadata": {
        "colab": {
          "base_uri": "https://localhost:8080/"
        },
        "id": "pXutgMCFyW36",
        "outputId": "8bd2cfae-9869-4470-cf02-4ae79b186ba9"
      },
      "execution_count": 37,
      "outputs": [
        {
          "output_type": "execute_result",
          "data": {
            "text/plain": [
              "False"
            ]
          },
          "metadata": {},
          "execution_count": 37
        }
      ]
    },
    {
      "cell_type": "markdown",
      "source": [
        "### \"not\" Operator"
      ],
      "metadata": {
        "id": "CeR6L-7oy67I"
      }
    },
    {
      "cell_type": "code",
      "source": [
        "# checking not True\n",
        "\n",
        "not a>0"
      ],
      "metadata": {
        "colab": {
          "base_uri": "https://localhost:8080/"
        },
        "id": "XUoKGBAXy_UA",
        "outputId": "bb52d5a7-4e0c-4b83-aecb-9200a22a0f44"
      },
      "execution_count": 38,
      "outputs": [
        {
          "output_type": "execute_result",
          "data": {
            "text/plain": [
              "False"
            ]
          },
          "metadata": {},
          "execution_count": 38
        }
      ]
    },
    {
      "cell_type": "code",
      "source": [
        "#checking not false\n",
        "not a<0"
      ],
      "metadata": {
        "colab": {
          "base_uri": "https://localhost:8080/"
        },
        "id": "VQ5AzBBqzQqI",
        "outputId": "500dcec7-d98b-4538-cc42-80ea894e2d40"
      },
      "execution_count": 39,
      "outputs": [
        {
          "output_type": "execute_result",
          "data": {
            "text/plain": [
              "True"
            ]
          },
          "metadata": {},
          "execution_count": 39
        }
      ]
    },
    {
      "cell_type": "markdown",
      "source": [
        "## 5.Check the identity of variables."
      ],
      "metadata": {
        "id": "3VPswy0108wj"
      }
    },
    {
      "cell_type": "code",
      "source": [
        "#assigning variables\n",
        "a  = 5\n",
        "b = 7\n",
        "c = a"
      ],
      "metadata": {
        "id": "TSDumFsx0_7T"
      },
      "execution_count": 40,
      "outputs": []
    },
    {
      "cell_type": "markdown",
      "source": [
        "\"is\" operator"
      ],
      "metadata": {
        "id": "dhntg78c79pC"
      }
    },
    {
      "cell_type": "code",
      "source": [
        " a is b"
      ],
      "metadata": {
        "colab": {
          "base_uri": "https://localhost:8080/"
        },
        "id": "9BklHT3v8EHO",
        "outputId": "f34a7ed8-eedc-489e-bc6c-759742431c1c"
      },
      "execution_count": 41,
      "outputs": [
        {
          "output_type": "execute_result",
          "data": {
            "text/plain": [
              "False"
            ]
          },
          "metadata": {},
          "execution_count": 41
        }
      ]
    },
    {
      "cell_type": "code",
      "source": [
        "a is c"
      ],
      "metadata": {
        "colab": {
          "base_uri": "https://localhost:8080/"
        },
        "id": "Z8jCx3JE8HC6",
        "outputId": "e8cb577c-2fa7-4bf7-a1b6-dfe5bebfe7d7"
      },
      "execution_count": 42,
      "outputs": [
        {
          "output_type": "execute_result",
          "data": {
            "text/plain": [
              "True"
            ]
          },
          "metadata": {},
          "execution_count": 42
        }
      ]
    },
    {
      "cell_type": "code",
      "source": [
        "# assigning string variables\n",
        "x = \"cat\"\n",
        "y = \"dog\"\n",
        "z = \"cat\"\n",
        "\n",
        "x is z"
      ],
      "metadata": {
        "colab": {
          "base_uri": "https://localhost:8080/"
        },
        "id": "78A_aEje8I-O",
        "outputId": "c0c1fda3-6359-45fd-cd99-0aa905de5601"
      },
      "execution_count": 43,
      "outputs": [
        {
          "output_type": "execute_result",
          "data": {
            "text/plain": [
              "True"
            ]
          },
          "metadata": {},
          "execution_count": 43
        }
      ]
    },
    {
      "cell_type": "code",
      "source": [
        "x is y"
      ],
      "metadata": {
        "colab": {
          "base_uri": "https://localhost:8080/"
        },
        "id": "GMhq-8PH8bZ4",
        "outputId": "f37deb84-83a6-4782-a208-49ba76a62470"
      },
      "execution_count": 44,
      "outputs": [
        {
          "output_type": "execute_result",
          "data": {
            "text/plain": [
              "False"
            ]
          },
          "metadata": {},
          "execution_count": 44
        }
      ]
    },
    {
      "cell_type": "markdown",
      "source": [
        "### \"is not Operator"
      ],
      "metadata": {
        "id": "JjJQWb049CH4"
      }
    },
    {
      "cell_type": "code",
      "source": [
        "x is not z"
      ],
      "metadata": {
        "colab": {
          "base_uri": "https://localhost:8080/"
        },
        "id": "aZVZHBKi9F3a",
        "outputId": "57de3ce3-3519-4fad-f42e-7d6dd12c5a51"
      },
      "execution_count": 45,
      "outputs": [
        {
          "output_type": "execute_result",
          "data": {
            "text/plain": [
              "False"
            ]
          },
          "metadata": {},
          "execution_count": 45
        }
      ]
    },
    {
      "cell_type": "code",
      "source": [
        "x is not y"
      ],
      "metadata": {
        "colab": {
          "base_uri": "https://localhost:8080/"
        },
        "id": "VCZsBYsT9IZ6",
        "outputId": "6c394280-3a72-4fc7-9338-5d06ca84061e"
      },
      "execution_count": 46,
      "outputs": [
        {
          "output_type": "execute_result",
          "data": {
            "text/plain": [
              "True"
            ]
          },
          "metadata": {},
          "execution_count": 46
        }
      ]
    },
    {
      "cell_type": "markdown",
      "source": [
        "## 6. Perform bitwise operations on any two integers"
      ],
      "metadata": {
        "id": "1nSZ3tw_83QS"
      }
    },
    {
      "cell_type": "code",
      "source": [
        "# assigning two interers\n",
        "my_int_1 = 5\n",
        "my_int_2 = 9"
      ],
      "metadata": {
        "id": "PITHgsmi85Di"
      },
      "execution_count": 47,
      "outputs": []
    },
    {
      "cell_type": "code",
      "source": [
        "#checking binary of my_int_1 that is 5\n",
        "bin(5)"
      ],
      "metadata": {
        "colab": {
          "base_uri": "https://localhost:8080/",
          "height": 36
        },
        "id": "h_GCJTvF-Psm",
        "outputId": "dffbc859-992a-40fb-c5b4-bea1aa3334a9"
      },
      "execution_count": 48,
      "outputs": [
        {
          "output_type": "execute_result",
          "data": {
            "text/plain": [
              "'0b101'"
            ],
            "application/vnd.google.colaboratory.intrinsic+json": {
              "type": "string"
            }
          },
          "metadata": {},
          "execution_count": 48
        }
      ]
    },
    {
      "cell_type": "code",
      "source": [
        "#checking binary of my_int_2 that is 9\n",
        "bin(9)"
      ],
      "metadata": {
        "colab": {
          "base_uri": "https://localhost:8080/",
          "height": 36
        },
        "id": "4P0XFeAJ-QPU",
        "outputId": "bd937fc4-7f1a-4d75-e22c-e1a56fc27faa"
      },
      "execution_count": 49,
      "outputs": [
        {
          "output_type": "execute_result",
          "data": {
            "text/plain": [
              "'0b1001'"
            ],
            "application/vnd.google.colaboratory.intrinsic+json": {
              "type": "string"
            }
          },
          "metadata": {},
          "execution_count": 49
        }
      ]
    },
    {
      "cell_type": "markdown",
      "source": [
        "### and opetator (&)"
      ],
      "metadata": {
        "id": "UUNtxNJm-uvb"
      }
    },
    {
      "cell_type": "code",
      "source": [
        "my_int_1 & my_int_2"
      ],
      "metadata": {
        "colab": {
          "base_uri": "https://localhost:8080/"
        },
        "id": "cEplr5pQ-w0R",
        "outputId": "973fd0ef-c0ab-4a87-8429-a997d436f446"
      },
      "execution_count": 50,
      "outputs": [
        {
          "output_type": "execute_result",
          "data": {
            "text/plain": [
              "1"
            ]
          },
          "metadata": {},
          "execution_count": 50
        }
      ]
    },
    {
      "cell_type": "code",
      "source": [
        "bin(1)"
      ],
      "metadata": {
        "colab": {
          "base_uri": "https://localhost:8080/",
          "height": 36
        },
        "id": "WQxoLnur-6TD",
        "outputId": "6900010a-b0f8-4338-9852-e760135e36e7"
      },
      "execution_count": 51,
      "outputs": [
        {
          "output_type": "execute_result",
          "data": {
            "text/plain": [
              "'0b1'"
            ],
            "application/vnd.google.colaboratory.intrinsic+json": {
              "type": "string"
            }
          },
          "metadata": {},
          "execution_count": 51
        }
      ]
    },
    {
      "cell_type": "code",
      "source": [
        "# OR operator (\"|\")\n",
        "my_int_1 | my_int_2"
      ],
      "metadata": {
        "colab": {
          "base_uri": "https://localhost:8080/"
        },
        "id": "6AdZLggf_APH",
        "outputId": "bf2b82be-8205-4dfd-fa0d-7902a8a87704"
      },
      "execution_count": 52,
      "outputs": [
        {
          "output_type": "execute_result",
          "data": {
            "text/plain": [
              "13"
            ]
          },
          "metadata": {},
          "execution_count": 52
        }
      ]
    },
    {
      "cell_type": "code",
      "source": [
        "bin(13)"
      ],
      "metadata": {
        "colab": {
          "base_uri": "https://localhost:8080/",
          "height": 36
        },
        "id": "lM29hXhW_l-R",
        "outputId": "ba9cd462-fa1c-40ca-844b-23d1e18abb56"
      },
      "execution_count": 53,
      "outputs": [
        {
          "output_type": "execute_result",
          "data": {
            "text/plain": [
              "'0b1101'"
            ],
            "application/vnd.google.colaboratory.intrinsic+json": {
              "type": "string"
            }
          },
          "metadata": {},
          "execution_count": 53
        }
      ]
    },
    {
      "cell_type": "markdown",
      "source": [
        "### XOR operator (^)"
      ],
      "metadata": {
        "id": "zPMpKI5W_s5Z"
      }
    },
    {
      "cell_type": "code",
      "source": [
        "my_int_1 ^ my_int_2"
      ],
      "metadata": {
        "colab": {
          "base_uri": "https://localhost:8080/"
        },
        "id": "4QxHsOq7_0je",
        "outputId": "ee42f140-9ca5-4596-acf6-2f71584f8a68"
      },
      "execution_count": 54,
      "outputs": [
        {
          "output_type": "execute_result",
          "data": {
            "text/plain": [
              "12"
            ]
          },
          "metadata": {},
          "execution_count": 54
        }
      ]
    },
    {
      "cell_type": "code",
      "source": [
        "bin(12)"
      ],
      "metadata": {
        "colab": {
          "base_uri": "https://localhost:8080/",
          "height": 36
        },
        "id": "2DqZ1v2d_6_U",
        "outputId": "52811a5c-d0d0-40cd-9c5c-f14102cde352"
      },
      "execution_count": 55,
      "outputs": [
        {
          "output_type": "execute_result",
          "data": {
            "text/plain": [
              "'0b1100'"
            ],
            "application/vnd.google.colaboratory.intrinsic+json": {
              "type": "string"
            }
          },
          "metadata": {},
          "execution_count": 55
        }
      ]
    },
    {
      "cell_type": "markdown",
      "source": [
        "### left shift (<<)"
      ],
      "metadata": {
        "id": "wxEzk7dVAce1"
      }
    },
    {
      "cell_type": "code",
      "source": [
        "my_int_1"
      ],
      "metadata": {
        "colab": {
          "base_uri": "https://localhost:8080/"
        },
        "id": "DHWRhtwmAjd9",
        "outputId": "a191f713-e189-4626-c23c-9d8360e0f0af"
      },
      "execution_count": 56,
      "outputs": [
        {
          "output_type": "execute_result",
          "data": {
            "text/plain": [
              "5"
            ]
          },
          "metadata": {},
          "execution_count": 56
        }
      ]
    },
    {
      "cell_type": "code",
      "source": [
        "my_int_1 <<3"
      ],
      "metadata": {
        "colab": {
          "base_uri": "https://localhost:8080/"
        },
        "id": "uj3qM-2bAmzD",
        "outputId": "899f8707-7cd5-4e80-ce13-593ad254c7b8"
      },
      "execution_count": 57,
      "outputs": [
        {
          "output_type": "execute_result",
          "data": {
            "text/plain": [
              "40"
            ]
          },
          "metadata": {},
          "execution_count": 57
        }
      ]
    },
    {
      "cell_type": "code",
      "source": [
        "print(bin(5))\n",
        "print(bin(40))"
      ],
      "metadata": {
        "colab": {
          "base_uri": "https://localhost:8080/"
        },
        "id": "q_Db4uiUAqfx",
        "outputId": "3d6f76f2-3e2c-4155-eccb-44389ddf94cc"
      },
      "execution_count": 58,
      "outputs": [
        {
          "output_type": "stream",
          "name": "stdout",
          "text": [
            "0b101\n",
            "0b101000\n"
          ]
        }
      ]
    },
    {
      "cell_type": "markdown",
      "source": [
        "### RIght shift (>>>)"
      ],
      "metadata": {
        "id": "zH70LVRIA5v8"
      }
    },
    {
      "cell_type": "code",
      "source": [
        "40 >> 3"
      ],
      "metadata": {
        "colab": {
          "base_uri": "https://localhost:8080/"
        },
        "id": "DUQ1-P7cA9Cy",
        "outputId": "ec8b41ca-40f4-40e1-9088-7b2f6b04e09b"
      },
      "execution_count": 59,
      "outputs": [
        {
          "output_type": "execute_result",
          "data": {
            "text/plain": [
              "5"
            ]
          },
          "metadata": {},
          "execution_count": 59
        }
      ]
    },
    {
      "cell_type": "markdown",
      "source": [
        "### 7. Use unary operators to change the sign of a number."
      ],
      "metadata": {
        "id": "Tr7Zkv9cBKqb"
      }
    },
    {
      "cell_type": "code",
      "source": [
        "# assigning variables\n",
        "num1 = 5\n",
        "num2 = -8\n",
        "\n",
        "#using unary operator to change the sign\n",
        "print(-num1)\n",
        "print(-num2)"
      ],
      "metadata": {
        "id": "5wM-G1rnBMjW",
        "colab": {
          "base_uri": "https://localhost:8080/"
        },
        "outputId": "61a83eaf-e306-461a-9507-780b52c18dd3"
      },
      "execution_count": 60,
      "outputs": [
        {
          "output_type": "stream",
          "name": "stdout",
          "text": [
            "-5\n",
            "8\n"
          ]
        }
      ]
    },
    {
      "cell_type": "markdown",
      "source": [
        "## 8.Use the ternary operator to assign values based on conditions."
      ],
      "metadata": {
        "id": "90B3LJPODiNc"
      }
    },
    {
      "cell_type": "code",
      "source": [
        "# assigning a varible\n",
        "\n",
        "age = 25\n",
        "\n",
        "\n",
        "y = \"eligible for vote\" if  age > 18 else \" not eligible for vote\""
      ],
      "metadata": {
        "id": "exZhN-EiDq_R"
      },
      "execution_count": 61,
      "outputs": []
    },
    {
      "cell_type": "code",
      "source": [
        "y"
      ],
      "metadata": {
        "colab": {
          "base_uri": "https://localhost:8080/",
          "height": 36
        },
        "id": "Uq8VHKuFEMnt",
        "outputId": "9d21b7f6-2b0f-4373-8ae9-912cae93875c"
      },
      "execution_count": 62,
      "outputs": [
        {
          "output_type": "execute_result",
          "data": {
            "text/plain": [
              "'eligible for vote'"
            ],
            "application/vnd.google.colaboratory.intrinsic+json": {
              "type": "string"
            }
          },
          "metadata": {},
          "execution_count": 62
        }
      ]
    },
    {
      "cell_type": "code",
      "source": [
        "age = 18\n",
        "\n",
        "\n",
        "y = \"eligible for vote\" if  age > 18 else \" not eligible for vote\"\n"
      ],
      "metadata": {
        "id": "K0vVLn1YENBm"
      },
      "execution_count": 63,
      "outputs": []
    },
    {
      "cell_type": "code",
      "source": [
        "y"
      ],
      "metadata": {
        "colab": {
          "base_uri": "https://localhost:8080/",
          "height": 36
        },
        "id": "dADosSuEES-f",
        "outputId": "4605691a-78d9-411d-aca9-ac3df11ef172"
      },
      "execution_count": 64,
      "outputs": [
        {
          "output_type": "execute_result",
          "data": {
            "text/plain": [
              "' not eligible for vote'"
            ],
            "application/vnd.google.colaboratory.intrinsic+json": {
              "type": "string"
            }
          },
          "metadata": {},
          "execution_count": 64
        }
      ]
    },
    {
      "cell_type": "code",
      "source": [],
      "metadata": {
        "id": "Rmn_Wt7FETyU"
      },
      "execution_count": 64,
      "outputs": []
    }
  ]
}