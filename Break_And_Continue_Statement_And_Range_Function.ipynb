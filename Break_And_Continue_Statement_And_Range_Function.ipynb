{
  "nbformat": 4,
  "nbformat_minor": 0,
  "metadata": {
    "colab": {
      "provenance": []
    },
    "kernelspec": {
      "name": "python3",
      "display_name": "Python 3"
    },
    "language_info": {
      "name": "python"
    }
  },
  "cells": [
    {
      "cell_type": "markdown",
      "source": [
        "# Assignment Questions\n",
        "1. Write a program to print numbers from 1 to 10, but stop if the number is 5.\n",
        "2. Write a program to iterate through a list and stop when encountering a specific element.\n",
        "3. Write a program to skip printing even numbers from 1 to 10.\n",
        "4. Write a program to print numbers from 0 to 9 using range().\n",
        "5. Write a program to print multiplication tables from 1 to 5, but stop after the first table is printed for each\n",
        "number.\n",
        "6. Write a program to skip printing even numbers using a while loop."
      ],
      "metadata": {
        "id": "47WTHkp0zxbT"
      }
    },
    {
      "cell_type": "markdown",
      "source": [
        "## 1. Write a program to print numbers from 1 to 10, but stop if the number is 5."
      ],
      "metadata": {
        "id": "sGpPUdewz86O"
      }
    },
    {
      "cell_type": "code",
      "source": [
        "for i in range (1,11):\n",
        " print(i)\n",
        " if i == 5 :\n",
        "  break\n"
      ],
      "metadata": {
        "colab": {
          "base_uri": "https://localhost:8080/"
        },
        "id": "fn7N4hURz_UO",
        "outputId": "9aef25f7-02f0-41ff-8fff-66574361321f"
      },
      "execution_count": 1,
      "outputs": [
        {
          "output_type": "stream",
          "name": "stdout",
          "text": [
            "1\n",
            "2\n",
            "3\n",
            "4\n",
            "5\n"
          ]
        }
      ]
    },
    {
      "cell_type": "markdown",
      "source": [
        "## 2. Write a program to iterate through a list and stop when encountering a specific element."
      ],
      "metadata": {
        "id": "rdaTJDt304L3"
      }
    },
    {
      "cell_type": "code",
      "source": [
        "my_list = [23,45,12,98,33,28,34,23,87,23,65,23,54,32,67,46,90]\n",
        "for i in my_list:\n",
        "  print(i)\n",
        "  if i == 87:\n",
        "    break"
      ],
      "metadata": {
        "colab": {
          "base_uri": "https://localhost:8080/"
        },
        "id": "-UVOB_M-1UAC",
        "outputId": "fb0da362-3df0-41b6-d50a-c3b7f2920648"
      },
      "execution_count": 2,
      "outputs": [
        {
          "output_type": "stream",
          "name": "stdout",
          "text": [
            "23\n",
            "45\n",
            "12\n",
            "98\n",
            "33\n",
            "28\n",
            "34\n",
            "23\n",
            "87\n"
          ]
        }
      ]
    },
    {
      "cell_type": "markdown",
      "source": [
        "## 3. Write a program to skip printing even numbers from 1 to 10."
      ],
      "metadata": {
        "id": "ENA7-VIE2EuZ"
      }
    },
    {
      "cell_type": "code",
      "source": [
        "for i in range(1,11):\n",
        "  if i%2 == 0:\n",
        "    continue\n",
        "  print(i)"
      ],
      "metadata": {
        "colab": {
          "base_uri": "https://localhost:8080/"
        },
        "id": "KlqWMl4-2GZH",
        "outputId": "658b378e-d32f-42ca-f71c-7b1f3bdcfddb"
      },
      "execution_count": 3,
      "outputs": [
        {
          "output_type": "stream",
          "name": "stdout",
          "text": [
            "1\n",
            "3\n",
            "5\n",
            "7\n",
            "9\n"
          ]
        }
      ]
    },
    {
      "cell_type": "markdown",
      "source": [
        "## 4. Write a program to print numbers from 0 to 9 using range()"
      ],
      "metadata": {
        "id": "DP89cQvI277C"
      }
    },
    {
      "cell_type": "code",
      "source": [
        "for i in range (10):\n",
        "  print(i)\n"
      ],
      "metadata": {
        "colab": {
          "base_uri": "https://localhost:8080/"
        },
        "id": "UVhRBY2M29MI",
        "outputId": "0b0356eb-68e3-45cb-d265-3bb934e8b059"
      },
      "execution_count": 4,
      "outputs": [
        {
          "output_type": "stream",
          "name": "stdout",
          "text": [
            "0\n",
            "1\n",
            "2\n",
            "3\n",
            "4\n",
            "5\n",
            "6\n",
            "7\n",
            "8\n",
            "9\n"
          ]
        }
      ]
    },
    {
      "cell_type": "markdown",
      "source": [
        "## 5. Write a program to print multiplication tables from 1 to 5, but stop after the first table is printed for each number."
      ],
      "metadata": {
        "id": "50_wwZUT3p5v"
      }
    },
    {
      "cell_type": "code",
      "source": [
        "for num in range(1, 6):\n",
        "    print(f\"Multiplication table for {num}:\")\n",
        "\n",
        "    for i in range(1, 11):\n",
        "        product = num * i\n",
        "        print(f\"{num} × {i} = {product}\")\n",
        "        print()  # Add an empty line after each table\n",
        "    break\n"
      ],
      "metadata": {
        "colab": {
          "base_uri": "https://localhost:8080/"
        },
        "id": "FF_yL0qZ3sYt",
        "outputId": "85c1074c-f15b-473c-e7e6-810672a7fa6a"
      },
      "execution_count": 5,
      "outputs": [
        {
          "output_type": "stream",
          "name": "stdout",
          "text": [
            "Multiplication table for 1:\n",
            "1 × 1 = 1\n",
            "\n",
            "1 × 2 = 2\n",
            "\n",
            "1 × 3 = 3\n",
            "\n",
            "1 × 4 = 4\n",
            "\n",
            "1 × 5 = 5\n",
            "\n",
            "1 × 6 = 6\n",
            "\n",
            "1 × 7 = 7\n",
            "\n",
            "1 × 8 = 8\n",
            "\n",
            "1 × 9 = 9\n",
            "\n",
            "1 × 10 = 10\n",
            "\n"
          ]
        }
      ]
    },
    {
      "cell_type": "markdown",
      "source": [
        "## 6. Write a program to skip printing even numbers using a while loop."
      ],
      "metadata": {
        "id": "b1qnmwHc3yGy"
      }
    },
    {
      "cell_type": "code",
      "source": [
        "x = 1\n",
        "while x<11:\n",
        "  if x%2 != 0:\n",
        "    print(x)\n",
        "\n",
        "  x += 1\n",
        "\n",
        "\n",
        "\n"
      ],
      "metadata": {
        "colab": {
          "base_uri": "https://localhost:8080/"
        },
        "id": "tWwAfZDj37Kk",
        "outputId": "b24e7b1d-d162-48f8-d150-cdd4da23c812"
      },
      "execution_count": 6,
      "outputs": [
        {
          "output_type": "stream",
          "name": "stdout",
          "text": [
            "1\n",
            "3\n",
            "5\n",
            "7\n",
            "9\n"
          ]
        }
      ]
    }
  ]
}